{
    "metadata": {
        "language_info": {
            "codemirror_mode": {
                "name": "ipython",
                "version": 3
            },
            "file_extension": ".py",
            "mimetype": "text/x-python",
            "name": "python",
            "nbconvert_exporter": "python",
            "pygments_lexer": "ipython3",
            "version": "3.8.5-final"
        },
        "orig_nbformat": 2,
        "kernelspec": {
            "name": "python3",
            "display_name": "Python 3.8.5 64-bit",
            "metadata": {
                "interpreter": {
                    "hash": "1ee38ef4a5a9feb55287fd749643f13d043cb0a7addaab2a9c224cbe137c0062"
                }
            }
        }
    },
    "nbformat": 4,
    "nbformat_minor": 2,
    "cells": [
        {
            "cell_type": "code",
            "execution_count": null,
            "metadata": {},
            "outputs": [],
            "source": [
                "message = carrot_run_data[\"results\"][\"Greeting\"]\n",
                "print(message)"
        ]
        },
        {
            "cell_type": "code",
            "execution_count": null,
            "metadata": {},
            "outputs": [],
            "source": [
                "message_file = open(carrot_downloads[\"results\"][\"File Result\"], 'r')\n",
                "print(message_file.read())"
        ]
        },
        {
            "cell_type": "code",
            "execution_count": null,
            "metadata": {},
            "outputs": [],
            "source": [
                "print('Thanks')"
        ]
        }
    ]
}